{
 "cells": [
  {
   "cell_type": "code",
   "execution_count": 16,
   "metadata": {},
   "outputs": [],
   "source": [
    "import xarray as xr\n",
    "import numpy as np\n",
    "from geojson import Feature, FeatureCollection, Point\n",
    "from data.transformers.geojson import data_array_to_geojson\n",
    "import pickle\n",
    "from data.utils import trunc\n"
   ]
  },
  {
   "cell_type": "code",
   "execution_count": null,
   "metadata": {},
   "outputs": [],
   "source": [
    "data =xr.open_dataset(\"Test.nc\")\n",
    "data1 = trunc(data).astype(float).values\n"
   ]
  }
 ],
 "metadata": {
  "interpreter": {
   "hash": "2c8428e20d34eb3ecf7eebae52492bf6e919589f7a16b8d4d1f4b031d73ac161"
  },
  "kernelspec": {
   "display_name": "Python 3.8.12 ('navigator')",
   "language": "python",
   "name": "python3"
  },
  "language_info": {
   "codemirror_mode": {
    "name": "ipython",
    "version": 3
   },
   "file_extension": ".py",
   "mimetype": "text/x-python",
   "name": "python",
   "nbconvert_exporter": "python",
   "pygments_lexer": "ipython3",
   "version": "3.8.12"
  },
  "orig_nbformat": 4
 },
 "nbformat": 4,
 "nbformat_minor": 2
}
