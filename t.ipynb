{
 "cells": [
  {
   "cell_type": "code",
   "execution_count": null,
   "id": "9fa8c977",
   "metadata": {},
   "outputs": [],
   "source": [
    "import pickle\n",
    "\n",
    "with open(\"/home/ubuntu/onav-cloud/Ocean-Data-Map-Project/dataset_perimeters.pkl\", \"rb\") as f:\n",
    "    data = pickle.load(f)\n",
    "print(type(data))\n",
    "print(data.keys() if isinstance(data, dict) else data)\n",
    "\n"
   ]
  },
  {
   "cell_type": "code",
   "execution_count": 1,
   "id": "55bc3b0c",
   "metadata": {},
   "outputs": [
    {
     "name": "stderr",
     "output_type": "stream",
     "text": [
      "/home/ubuntu/onav-cloud/tools/miniconda/3/amd64/envs/navigator/lib/python3.12/site-packages/xarray/backends/plugins.py:80: RuntimeWarning: Engine 'gini' loading failed:\n",
      "Struct() takes at most 1 argument (3 given)\n",
      "  warnings.warn(f\"Engine {name!r} loading failed:\\n{ex}\", RuntimeWarning)\n"
     ]
    }
   ],
   "source": [
    "from oceannavigator.dataset_config import DatasetConfig\n",
    "from data import open_dataset\n",
    "config= DatasetConfig('riops_fc_2dll')\n",
    "sample_variable = config.variables[0]\n",
    "with open_dataset(config, variable=sample_variable, timestamp=-1) as dataset:\n",
    "   lat_var='latitude'\n",
    "   lon_var='longitude'\n",
    "   lat_data = dataset.nc_data.dataset.variables[lat_var][:]\n",
    "   lon_data = dataset.nc_data.dataset.variables[lon_var][:]"
   ]
  },
  {
   "cell_type": "code",
   "execution_count": null,
   "id": "c26febeb",
   "metadata": {},
   "outputs": [],
   "source": [
    "import numpy as np;\n",
    "from shapely.geometry import LinearRing, Point, Polygon;\n",
    "from shapely.geometry import MultiPoint;\n",
    "\n",
    "lon_mesh, lat_mesh = np.meshgrid(lon_data, lat_data)\n",
    "lat_flat = lat_mesh.flatten()\n",
    "lon_flat = lon_mesh.flatten()\n",
    "valid_mask = ~(np.isnan(lat_flat) | np.isnan(lon_flat))\n",
    "lat_valid = lat_flat[valid_mask]\n",
    "lon_valid = lon_flat[valid_mask]\n",
    "lon_valid = ((lon_valid + 180) % 360) - 180\n",
    "\n",
    "# # Sample points if too many (for performance)\n",
    "# if len(lat_valid) > 1000:\n",
    "#     indices = np.linspace(0, len(lat_valid)-1, 1000, dtype=int)\n",
    "#     lat_valid = lat_valid[indices]\n",
    "#     lon_valid = lon_valid[indices]\n",
    "\n",
    "# Create convex hull\n",
    "points = [(lon, lat) for lon, lat in zip(lon_valid, lat_valid)]\n",
    "multipoint = MultiPoint(points)\n",
    "hull = multipoint.convex_hull\n",
    "coords = list(hull.exterior.coords)\n"
   ]
  },
  {
   "cell_type": "code",
   "execution_count": null,
   "id": "d44feb91",
   "metadata": {},
   "outputs": [],
   "source": [
    "import matplotlib.pyplot as plt\n",
    "\n",
    "# Unpack coords into x (lon) and y (lat)\n",
    "x, y = zip(*coords)  # coords is a list of (lon, lat) tuples\n",
    "\n",
    "# Plot the polygon (with x=lon, y=lat)\n",
    "plt.figure(figsize=(8, 6))\n",
    "plt.plot(y, x, color='blue', linewidth=2, label='Convex Hull Polygon')  # swapped y, x\n",
    "plt.fill(y, x, color='lightblue', alpha=0.3)  # optional fill\n",
    "\n",
    "# Formatting\n",
    "plt.xlabel(\"Latitude\")   # because y is now lat\n",
    "plt.ylabel(\"Longitude\")  # because x is now lon\n",
    "plt.title(\"Convex Hull Polygon (Flipped Vertically)\")\n",
    "plt.grid(True)\n",
    "plt.legend()\n",
    "plt.axis(\"equal\")\n",
    "plt.gca().invert_yaxis()  # ⬅️ Flip vertically\n",
    "plt.show()\n"
   ]
  },
  {
   "cell_type": "code",
   "execution_count": null,
   "id": "5fcfc79a",
   "metadata": {},
   "outputs": [],
   "source": [
    "print(float(np.min(lat_data)))\n",
    "print(float(np.max(lat_data)))\n",
    "print(float(np.min(lon_data)))\n",
    "print(float(np.max(lon_data)))"
   ]
  },
  {
   "cell_type": "code",
   "execution_count": null,
   "id": "f087289e",
   "metadata": {},
   "outputs": [],
   "source": [
    "print(coords)"
   ]
  },
  {
   "cell_type": "code",
   "execution_count": null,
   "id": "7f49681e",
   "metadata": {},
   "outputs": [],
   "source": [
    "lat_min = float(np.min(lat_data))\n",
    "lat_max = float(np.max(lat_data))\n",
    "lon_min = float(np.min(lon_data))\n",
    "lon_max = float(np.max(lon_data))\n",
    "coords = [\n",
    "[lon_min, lat_min],\n",
    "[lon_max, lat_min],\n",
    "[lon_max, lat_max],\n",
    "[lon_min, lat_max],\n",
    "[lon_min, lat_min],  # close the polygon\n",
    "]\n",
    "# Unpack coords into x (lon) and y (lat)\n",
    "x, y = zip(*coords)  # coords is a list of (lon, lat) tuples\n",
    "\n",
    "# Plot the polygon (with x=lon, y=lat)\n",
    "plt.figure(figsize=(8, 6))\n",
    "plt.plot(y, x, color='blue', linewidth=2, label='Convex Hull Polygon')  # swapped y, x\n",
    "plt.fill(y, x, color='lightblue', alpha=0.3)  # optional fill\n",
    "\n",
    "# Formatting\n",
    "plt.xlabel(\"Latitude\")   # because y is now lat\n",
    "plt.ylabel(\"Longitude\")  # because x is now lon\n",
    "plt.title(\"Convex Hull Polygon (Flipped Vertically)\")\n",
    "plt.grid(True)\n",
    "plt.legend()\n",
    "plt.axis(\"equal\")\n",
    "plt.gca().invert_yaxis()  # ⬅️ Flip vertically\n",
    "plt.show()\n"
   ]
  },
  {
   "cell_type": "code",
   "execution_count": null,
   "id": "cd57c321",
   "metadata": {},
   "outputs": [],
   "source": []
  }
 ],
 "metadata": {
  "kernelspec": {
   "display_name": "navigator",
   "language": "python",
   "name": "python3"
  },
  "language_info": {
   "codemirror_mode": {
    "name": "ipython",
    "version": 3
   },
   "file_extension": ".py",
   "mimetype": "text/x-python",
   "name": "python",
   "nbconvert_exporter": "python",
   "pygments_lexer": "ipython3",
   "version": "3.12.0"
  }
 },
 "nbformat": 4,
 "nbformat_minor": 5
}
